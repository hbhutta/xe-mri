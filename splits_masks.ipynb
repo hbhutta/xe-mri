{
 "cells": [
  {
   "cell_type": "code",
   "execution_count": null,
   "metadata": {},
   "outputs": [],
   "source": [
    "import numpy as np\n",
    "import nibabel as nib\n",
    "#from nibabel.filebasedimages import FileBasedImage"
   ]
  },
  {
   "cell_type": "code",
   "execution_count": 2,
   "metadata": {},
   "outputs": [],
   "source": [
    "ct_mask_path  = r'C:\\Users\\haadb\\OneDrive\\Desktop\\Xe_MRI\\imgs\\PIm0201 ANTsPy CT-MRI Registration\\CT_mask.nii'\n",
    "img = nib.load(filename=ct_mask_path)\n",
    "volume = img.get_fdata()"
   ]
  },
  {
   "cell_type": "code",
   "execution_count": null,
   "metadata": {},
   "outputs": [],
   "source": [
    "def mask_(data: np.ndarray | np.memmap, target: np.float64 | np.int64 | list) -> list[bool]:\n",
    "    if type(target) == list:\n",
    "        return list(np.vectorize(lambda x: (x in target))(data))\n",
    "    return (np.vectorize(lambda x: (x == target))(data))\n",
    "     \n",
    "def count_(data: np.ndarray | np.memmap, target: np.float64 | np.int64) -> int:\n",
    "    return np.count_nonzero(mask_(data=data, target=target))\n",
    "\n",
    "def split_mask(mask: np.memmap | np.ndarray) -> list[np.memmap | np.ndarray]:\n",
    "    splits = []\n",
    "    vals = [val for val in np.unique(mask) if val != 0]\n",
    "    for val in vals: \n",
    "        splits.append(np.where(mask == val, mask, 0))\n",
    "    \n",
    "    \"\"\"\n",
    "    Assert that the number of masks resulting from\n",
    "    the split equals the number of unique values \n",
    "    in the mask.\n",
    "    \n",
    "    For example, if a lobar mask has five unique values\n",
    "    (one for each lobe), then there should be five splits\n",
    "    \"\"\"        \n",
    "    assert len(splits) == len(vals)\n",
    "    n = len(splits)\n",
    "    \n",
    "    for i in range(n):\n",
    "        \"\"\"\n",
    "        Assert that the count of non-zero pixels other than \n",
    "        the pixel value associated to this split are zero\n",
    "        \"\"\"\n",
    "        assert count_(data=splits[i], target=[val for val in vals if val != vals[i]]) == 0\n",
    "        \n",
    "        \"\"\"\n",
    "        Assert that the count of pixels of value val[i]\n",
    "        in splits[i] is the same as the count of pixels \n",
    "        of value val[i] in the original mask\n",
    "        \"\"\"\n",
    "        assert count_(data=splits[i], target=vals[i]) == count_(mask, vals[i])\n",
    "        \n",
    "    return splits\n",
    "\n",
    "\"\"\"\n",
    "Get a nibabel FileBasedImage from a 3D data matrix\n",
    "\"\"\"\n",
    "def get_nib(fdata: np.ndarray):\n",
    "    return None # stub\n",
    "\n",
    "\"\"\"\n",
    "Return a list of file-based images\n",
    "\"\"\"\n",
    "def splits_to_imgs(original_mask) -> list:\n",
    "    splits = split_mask(mask=original_mask)\n",
    "    imgs = []\n",
    "    for split in splits:\n",
    "       # ... # Make a FileBasedImage using nibabel out of each split (each split is a float64 data matrix)\n",
    "       imgs.append(get_nib(split)) \n",
    "    return imgs\n",
    "\n",
    "def calculate_vdp(ventilation_img, region_mask):\n",
    "    return 0 # stub"
   ]
  }
 ],
 "metadata": {
  "kernelspec": {
   "display_name": "Python 3",
   "language": "python",
   "name": "python3"
  },
  "language_info": {
   "codemirror_mode": {
    "name": "ipython",
    "version": 3
   },
   "file_extension": ".py",
   "mimetype": "text/x-python",
   "name": "python",
   "nbconvert_exporter": "python",
   "pygments_lexer": "ipython3",
   "version": "3.11.4"
  }
 },
 "nbformat": 4,
 "nbformat_minor": 2
}
